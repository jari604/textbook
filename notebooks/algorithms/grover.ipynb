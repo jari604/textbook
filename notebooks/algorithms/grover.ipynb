{
 "cells": [
  {
   "cell_type": "markdown",
   "id": "f684d213",
   "metadata": {},
   "source": [
    "# Grover's algorithm"
   ]
  },
  {
   "cell_type": "markdown",
   "id": "b121f96d",
   "metadata": {},
   "source": [
    "## Overview\n",
    "\n",
    "- **Time complexity:** $O(\\sqrt{N})$, where $N$ is the size of the search space\n",
    "- **Speedup:** Quadratic\n",
    "- **Approachability:** Medium\n",
    "- **Related topics:** Amplitude amplification\n",
    "\n",
    "Grover's algorithm is a search algorithm that has a provable quadratic speedup for unstructured problems.\n",
    "\n",
    "As it ignores any problem structure, Grover's algorithm is widely applicable but often less efficient than problem-specific algorithms. While unlikely to be useful by itself, Grover's algorithm was an important development in quantum computing. Its ideas were later generalized into _amplitude amplification_, which appears in more sophisticated quantum algorithms.\n",
    "\n",
    "This page should be understandable to anyone comfortable with basic quantum computing concepts."
   ]
  },
  {
   "cell_type": "markdown",
   "id": "4837dbcd",
   "metadata": {},
   "source": [
    "## Problem form\n",
    "\n",
    "Grover's algorithm is a black-box algorithm. Its input is a quantum circuit called the _oracle_. The oracle multiplies the amplitudes of some states by -1 (we'll call such states \"good\" states), and leaves all other amplitudes unchanged. Given an oracle, the goal is to find one of these good states.\n",
    "\n",
    "$$\n",
    "U_\\text{oracle}|x\\rangle = \\bigg\\{\n",
    "\\begin{aligned}\n",
    "\\phantom{-}|x\\rangle \\quad \\text{if} \\; x \\notin \\text{good strings} \\\\\n",
    "-|x\\rangle \\quad \\text{if} \\; x \\in \\text{good strings} \\\\\n",
    "\\end{aligned}\n",
    "$$\n",
    "\n",
    "The following code example creates a matrix for an example oracle. For now, we'll use a priori knowledge of the good strings, but the next section will show how to transform problems to oracle circuits _without_ knowing their good strings beforehand."
   ]
  },
  {
   "cell_type": "code",
   "execution_count": 1,
   "id": "d53d223c",
   "metadata": {
    "scrolled": true
   },
   "outputs": [
    {
     "name": "stdout",
     "output_type": "stream",
     "text": [
      "Oracle matrix:\n",
      "[[ 1  0  0  0  0  0  0  0]\n",
      " [ 0 -1  0  0  0  0  0  0]\n",
      " [ 0  0  1  0  0  0  0  0]\n",
      " [ 0  0  0  1  0  0  0  0]\n",
      " [ 0  0  0  0  1  0  0  0]\n",
      " [ 0  0  0  0  0  1  0  0]\n",
      " [ 0  0  0  0  0  0 -1  0]\n",
      " [ 0  0  0  0  0  0  0  1]]\n"
     ]
    }
   ],
   "source": [
    "NUM_QUBITS = 3\n",
    "good_states = [\"001\", \"110\"]\n",
    "\n",
    "# Create an identity matrix\n",
    "from numpy import identity\n",
    "\n",
    "oracle = identity(2**NUM_QUBITS, dtype=int)\n",
    "\n",
    "# Alter matrix to mark \"good\" states\n",
    "for state in good_states:\n",
    "    INDEX = int(state, 2)  # Convert bit string to int\n",
    "    oracle[INDEX][INDEX] = -1\n",
    "\n",
    "print(f\"Oracle matrix:\\n{oracle}\")"
   ]
  },
  {
   "cell_type": "markdown",
   "id": "143e8371",
   "metadata": {},
   "source": [
    "### Converting problems to oracles\n",
    "\n",
    "#### Computational search\n",
    "\n",
    "The most likely use case for Grover's algorithm is _computational search_, in which the oracle is a circuit that computes whether bit strings are \"good\" or not. This section shows a simple technique to transform many classical problems to oracle circuits that Grover's algorithm could solve.\n",
    "\n",
    "The problem must have a function for evaluating whether a bit string is \"good\" or not. For example, if we have a function that verifies solutions to a sudoku, we could use Grover's algorithm to solve that sudoku. The function should have the following form.\n",
    "\n",
    "$$\n",
    "f(x) = \\bigg\\{\n",
    "\\begin{aligned}\n",
    "0 \\quad \\text{if} \\; x \\notin \\text{good states} \\\\\n",
    "1 \\quad \\text{if} \\; x \\in \\text{good states} \\\\\n",
    "\\end{aligned}\n",
    "$$\n",
    "\n",
    "\n",
    "To convert this function to an oracle, first implement the classical function $f(x)$, as a reversible circuit\n",
    "   \n",
    "![A Classical reversible oracle](images/grover/boolean-oracle.svg)\n",
    "\n",
    "Next, initialize the 'output' qubit to the state $|{-}\\rangle$. Phase kickback effect turns this into a Grover oracle (similar to the workings of the Deutsch-Jozsa oracle).\n",
    "   \n",
    "![Grover oracle constructed from a classical reversible oracle](images/grover/phase-oracle.svg)\n",
    "\n",
    "$$\n",
    "U_\\text{f}|x\\rangle|{-}\\rangle = \\bigg\\{\n",
    "\\begin{aligned}\n",
    "&|x\\rangle|{-}\\rangle \\quad &\\text{if} \\; x \\notin \\text{good states} \\\\\n",
    "&|x\\rangle\\otimes X |{-}\\rangle = -|x\\rangle|{-}\\rangle \\quad &\\text{if} \\; x \\in \\text{good states} \\\\\n",
    "\\end{aligned}\n",
    "$$\n",
    "\n",
    "We can then ignore the auxiliary ($|{-}\\rangle$) qubit.\n",
    "\n",
    "\n",
    "#### Database search\n",
    "\n",
    "In theory, Grover's algorithm could also search databases of recorded information. A popular example of unstructured search is searching a phone book by telephone number, rather than by name. Since phone books are not ordered by number, we have no information about where in the book the number will be, that is, the problem has no _structure_. The best classical algorithm for unstructured search is _random guessing_, in which we select random entries and check if they contain the correct phone number. This will take $N/2$ database queries on average, whereas Grover's algorithm would take ~$\\sqrt{N}$.\n",
    "\n",
    "In reality, Grover's algorithm is unlikely to ever be used for database search. Today's classical computers are fast, so the database searches would need to be very large for Grover's algorithm to show an advantage. These large databases would need to be stored on special quantum hardware that could be queried in superposition, which is far beyond our current technology. Finally, most existing databases are indexed, which adds structure to avoid long search times; it's rare for a real database search to resort to random guessing.\n",
    "\n",
    "Instead, Grover's algorithm is most likely to be used for computational search."
   ]
  },
  {
   "cell_type": "markdown",
   "id": "d7120428",
   "metadata": {},
   "source": [
    "## Algorithm\n",
    "\n",
    "This section outlines Grover's algorithm, and shows an example in Qiskit.\n",
    "\n",
    "### Overview\n",
    "\n",
    "Grover's algorithm has three steps:\n",
    "\n",
    "1. Prepare the qubits in an equal superposition of all possible states. We'll call this quantum state $|s\\rangle$, and you can create it from the all-zeros state by applying a Hadamard gate to each qubit.\n",
    "\n",
    "   $$ H^{\\otimes n}|00\\dots0\\rangle = |s\\rangle $$\n",
    "\n",
    "2. Apply the oracle to $|s\\rangle$. The state of the qubits is now $U_\\text{oracle}|s\\rangle$.\n",
    "\n",
    "3. Apply a diffuser ($U_s$) to the qubits. The diffuser is a reflection around $|s\\rangle$.\n",
    "\n",
    "   $$ U_s = 2|s\\rangle\\langle s| - \\mathbb{1} $$\n",
    "   \n",
    "   The state of the qubits is now $ U_s U_\\text{oracle}|s\\rangle $.\n",
    "\n",
    "After these three steps, we'll have a higher probability of measuring good states than other states. Repeating steps two and three roughly $\\sqrt{N}$ times optimizes this probability. Note that we query the oracle in step 2, so the number of queries is roughly proportional to the size of the search space."
   ]
  },
  {
   "cell_type": "markdown",
   "id": "7cd00fea",
   "metadata": {},
   "source": [
    "### Walk through\n",
    "\n",
    "This short code example uses Grover's algorithm to solve the oracle defined in the \"Problem\" section.\n",
    "\n",
    "#### Creating a diffuser\n",
    "\n",
    "First, we'll create a diffuser circuit. The diffuser is a reflection around $|s\\rangle$, which means it must invert the sign of all states perpendicular to $|s\\rangle$.\n",
    "\n",
    "We can create a diffuser from a multi-controlled-Z (MCZ) gate. The MCZ gate is a reflection around the all-ones state ($|1\\rangle$), up to a global phase.\n",
    "\n",
    "$$ MCZ = \\mathbb{1} - 2|1\\rangle\\langle 1|$$\n",
    "\n",
    "Since $H^{\\otimes n}X^{\\otimes n}|1\\rangle = |s\\rangle$, we can map the CZ gate to a diffuser by wrapping it in H gates and X gates.\n",
    "\n",
    "$$\n",
    "\\begin{aligned}\n",
    "H^{\\otimes n}X^{\\otimes n}(MCZ)X^{\\otimes n}H^{\\otimes n}\n",
    "&= H^{\\otimes n}X^{\\otimes n}(\\mathbb{1} - 2|1\\rangle\\langle 1|) X^{\\otimes n}H^{\\otimes n} \\\\\n",
    "&= \\mathbb{1} - 2|s\\rangle\\langle s| \\\\\n",
    "&= -U_s\n",
    "\\end{aligned}\n",
    "$$\n",
    "\n",
    "The following code cell creates a diffuser from a MCZ gate."
   ]
  },
  {
   "cell_type": "code",
   "execution_count": 2,
   "id": "8e830aab",
   "metadata": {},
   "outputs": [
    {
     "data": {
      "image/svg+xml": [
       "<?xml version=\"1.0\" encoding=\"UTF-8\"?><!DOCTYPE svg  PUBLIC '-//W3C//DTD SVG 1.1//EN'  'http://www.w3.org/Graphics/SVG/1.1/DTD/svg11.dtd'><svg width=\"312.85pt\" height=\"172pt\" version=\"1.1\" viewBox=\"0 0 312.85 172\" xmlns=\"http://www.w3.org/2000/svg\" xmlns:xlink=\"http://www.w3.org/1999/xlink\"><defs><style type=\"text/css\">*{stroke-linejoin: round; stroke-linecap: butt}</style></defs><path d=\"m0 172h312.85v-172h-312.85z\" fill=\"#ffffff\"/><path d=\"m64.609 44.283h236.41\" clip-path=\"url(#pa03918f209)\" fill=\"none\" stroke=\"#000000\" stroke-linecap=\"square\" stroke-width=\"2\"/><path d=\"m64.609 90.637h236.41\" clip-path=\"url(#pa03918f209)\" fill=\"none\" stroke=\"#000000\" stroke-linecap=\"square\" stroke-width=\"2\"/><path d=\"m64.609 136.99h236.41\" clip-path=\"url(#pa03918f209)\" fill=\"none\" stroke=\"#000000\" stroke-linecap=\"square\" stroke-width=\"2\"/><path d=\"m182.35 136.99v-92.708\" clip-path=\"url(#pa03918f209)\" fill=\"none\" stroke=\"#6929c4\" stroke-linecap=\"square\" stroke-width=\"2\"/><path d=\"m182.35 136.99v-92.708\" clip-path=\"url(#pa03918f209)\" fill=\"none\" stroke=\"#6929c4\" stroke-linecap=\"square\" stroke-width=\"2\"/><path d=\"m74.575 59.348h30.13v-30.13h-30.13z\" clip-path=\"url(#pa03918f209)\" fill=\"#1192e8\" stroke=\"#1192e8\" stroke-width=\"1.5\"/><path d=\"m74.575 105.7h30.13v-30.13h-30.13z\" clip-path=\"url(#pa03918f209)\" fill=\"#1192e8\" stroke=\"#1192e8\" stroke-width=\"1.5\"/><path d=\"m74.575 152.06h30.13v-30.13h-30.13z\" clip-path=\"url(#pa03918f209)\" fill=\"#1192e8\" stroke=\"#1192e8\" stroke-width=\"1.5\"/><path d=\"m120.93 59.348h30.13v-30.13h-30.13z\" clip-path=\"url(#pa03918f209)\" fill=\"#005d5d\" stroke=\"#005d5d\" stroke-width=\"1.5\"/><path d=\"m120.93 105.7h30.13v-30.13h-30.13z\" clip-path=\"url(#pa03918f209)\" fill=\"#005d5d\" stroke=\"#005d5d\" stroke-width=\"1.5\"/><path d=\"m120.93 152.06h30.13v-30.13h-30.13z\" clip-path=\"url(#pa03918f209)\" fill=\"#005d5d\" stroke=\"#005d5d\" stroke-width=\"1.5\"/><path d=\"m182.35 48.803c1.1986 0 2.3482-0.4762 3.1958-1.3237 0.84753-0.84753 1.3237-1.9972 1.3237-3.1958 0-1.1986-0.4762-2.3482-1.3237-3.1958-0.84753-0.84753-1.9972-1.3237-3.1958-1.3237s-2.3482 0.4762-3.1958 1.3237c-0.84753 0.84753-1.3237 1.9972-1.3237 3.1958 0 1.1986 0.4762 2.3482 1.3237 3.1958 0.84753 0.84753 1.9972 1.3237 3.1958 1.3237z\" clip-path=\"url(#pa03918f209)\" fill=\"#6929c4\" stroke=\"#6929c4\" stroke-width=\"1.5\"/><path d=\"m182.35 95.157c1.1986 0 2.3482-0.4762 3.1958-1.3237 0.84753-0.84753 1.3237-1.9972 1.3237-3.1958s-0.4762-2.3482-1.3237-3.1958c-0.84753-0.84753-1.9972-1.3237-3.1958-1.3237s-2.3482 0.4762-3.1958 1.3237c-0.84753 0.84753-1.3237 1.9972-1.3237 3.1958s0.4762 2.3482 1.3237 3.1958c0.84753 0.84753 1.9972 1.3237 3.1958 1.3237z\" clip-path=\"url(#pa03918f209)\" fill=\"#6929c4\" stroke=\"#6929c4\" stroke-width=\"1.5\"/><path d=\"m182.35 141.51c1.1986 0 2.3482-0.4762 3.1958-1.3237 0.84753-0.84753 1.3237-1.9972 1.3237-3.1958 0-1.1986-0.4762-2.3482-1.3237-3.1958-0.84753-0.84753-1.9972-1.3237-3.1958-1.3237s-2.3482 0.4762-3.1958 1.3237c-0.84753 0.84753-1.3237 1.9972-1.3237 3.1958 0 1.1986 0.4762 2.3482 1.3237 3.1958 0.84753 0.84753 1.9972 1.3237 3.1958 1.3237z\" clip-path=\"url(#pa03918f209)\" fill=\"#6929c4\" stroke=\"#6929c4\" stroke-width=\"1.5\"/><path d=\"m213.64 59.348h30.13v-30.13h-30.13z\" clip-path=\"url(#pa03918f209)\" fill=\"#005d5d\" stroke=\"#005d5d\" stroke-width=\"1.5\"/><path d=\"m213.64 105.7h30.13v-30.13h-30.13z\" clip-path=\"url(#pa03918f209)\" fill=\"#005d5d\" stroke=\"#005d5d\" stroke-width=\"1.5\"/><path d=\"m213.64 152.06h30.13v-30.13h-30.13z\" clip-path=\"url(#pa03918f209)\" fill=\"#005d5d\" stroke=\"#005d5d\" stroke-width=\"1.5\"/><path d=\"m259.99 59.348h30.13v-30.13h-30.13z\" clip-path=\"url(#pa03918f209)\" fill=\"#1192e8\" stroke=\"#1192e8\" stroke-width=\"1.5\"/><path d=\"m259.99 105.7h30.13v-30.13h-30.13z\" clip-path=\"url(#pa03918f209)\" fill=\"#1192e8\" stroke=\"#1192e8\" stroke-width=\"1.5\"/><path d=\"m259.99 152.06h30.13v-30.13h-30.13z\" clip-path=\"url(#pa03918f209)\" fill=\"#1192e8\" stroke=\"#1192e8\" stroke-width=\"1.5\"/><g clip-path=\"url(#pa03918f209)\"><g transform=\"translate(37.301 48.734) scale(.1625 -.1625)\"><defs><path id=\"DejaVuSans-Oblique-71\" transform=\"scale(.015625)\" d=\"m2669 525q-231-303-546-460-314-156-695-156-531 0-833 358-301 358-301 986 0 506 186 978t533 847q225 244 517 375t614 131q387 0 637-153t363-462l100 525h578l-934-4813h-579l360 1844zm-1778 813q0-463 193-705 194-242 560-242 544 0 928 520t384 1264q0 450-199 689-198 239-569 239-272 0-504-127-231-126-403-370-181-256-286-600-104-343-104-668z\"/><path id=\"DejaVuSans-30\" transform=\"scale(.015625)\" d=\"m2034 4250q-487 0-733-480-245-479-245-1442 0-959 245-1439 246-480 733-480 491 0 736 480 246 480 246 1439 0 963-246 1442-245 480-736 480zm0 500q785 0 1199-621 414-620 414-1801 0-1178-414-1799-414-620-1199-620-784 0-1198 620-414 621-414 1799 0 1181 414 1801 414 621 1198 621z\"/></defs><use xlink:href=\"#DejaVuSans-Oblique-71\"/><use transform=\"translate(63.477 -16.406) scale(.7)\" xlink:href=\"#DejaVuSans-30\"/></g></g><g clip-path=\"url(#pa03918f209)\"><g transform=\"translate(37.301 95.088) scale(.1625 -.1625)\"><defs><path id=\"DejaVuSans-31\" transform=\"scale(.015625)\" d=\"m794 531h1031v3560l-1122-225v575l1116 225h631v-4135h1031v-531h-2687v531z\"/></defs><use xlink:href=\"#DejaVuSans-Oblique-71\"/><use transform=\"translate(63.477 -16.406) scale(.7)\" xlink:href=\"#DejaVuSans-31\"/></g></g><g clip-path=\"url(#pa03918f209)\"><g transform=\"translate(37.301 141.44) scale(.1625 -.1625)\"><defs><path id=\"DejaVuSans-32\" transform=\"scale(.015625)\" d=\"m1228 531h2203v-531h-2962v531q359 372 979 998 621 627 780 809 303 340 423 576 121 236 121 464 0 372-261 606-261 235-680 235-297 0-627-103-329-103-704-313v638q381 153 712 231 332 78 607 78 725 0 1156-363 431-362 431-968 0-288-108-546-107-257-392-607-78-91-497-524-418-433-1181-1211z\"/></defs><use xlink:href=\"#DejaVuSans-Oblique-71\"/><use transform=\"translate(63.477 -16.406) scale(.7)\" xlink:href=\"#DejaVuSans-32\"/></g></g><g clip-path=\"url(#pa03918f209)\"><g transform=\"translate(84.752 47.87) scale(.13 -.13)\" fill=\"#ffffff\"><defs><path id=\"DejaVuSans-48\" transform=\"scale(.015625)\" d=\"m628 4666h631v-1913h2294v1913h631v-4666h-631v2222h-2294v-2222h-631v4666z\"/></defs><use xlink:href=\"#DejaVuSans-48\"/></g></g><g clip-path=\"url(#pa03918f209)\"><g transform=\"translate(84.752 94.224) scale(.13 -.13)\" fill=\"#ffffff\"><use xlink:href=\"#DejaVuSans-48\"/></g></g><g clip-path=\"url(#pa03918f209)\"><g transform=\"translate(84.752 140.58) scale(.13 -.13)\" fill=\"#ffffff\"><use xlink:href=\"#DejaVuSans-48\"/></g></g><g clip-path=\"url(#pa03918f209)\"><g transform=\"translate(131.54 47.87) scale(.13 -.13)\" fill=\"#ffffff\"><defs><path id=\"DejaVuSans-58\" transform=\"scale(.015625)\" d=\"m403 4666h678l1160-1735 1165 1735h678l-1500-2241 1600-2425h-678l-1312 1984-1322-1984h-681l1665 2491-1453 2175z\"/></defs><use xlink:href=\"#DejaVuSans-58\"/></g></g><g clip-path=\"url(#pa03918f209)\"><g transform=\"translate(131.54 94.224) scale(.13 -.13)\" fill=\"#ffffff\"><use xlink:href=\"#DejaVuSans-58\"/></g></g><g clip-path=\"url(#pa03918f209)\"><g transform=\"translate(131.54 140.58) scale(.13 -.13)\" fill=\"#ffffff\"><use xlink:href=\"#DejaVuSans-58\"/></g></g><g clip-path=\"url(#pa03918f209)\"><g transform=\"translate(187.91 112.94) scale(.08 -.08)\"><defs><path id=\"DejaVuSans-50\" transform=\"scale(.015625)\" d=\"m1259 4147v-1753h794q441 0 681 228 241 228 241 650 0 419-241 647-240 228-681 228h-794zm-631 519h1425q785 0 1186-355 402-355 402-1039 0-691-402-1044-401-353-1186-353h-794v-1875h-631v4666z\"/><path id=\"DejaVuSans-28\" transform=\"scale(.015625)\" d=\"m1984 4856q-418-718-622-1422-203-703-203-1425 0-721 205-1429t620-1424h-500q-468 735-701 1444t-233 1409q0 697 231 1403 232 707 703 1444h500z\"/><path id=\"DejaVuSans-Oblique-3c0\" transform=\"scale(.015625)\" d=\"m584 3500h3354l-113-575h-441l-418-2150q-44-225 15-325 57-97 228-97 47 0 116 10 72 6 94 9l-81-416q-116-40-235-59-122-19-237-19-375 0-478 203-104 207 3 757l406 2087h-1291l-568-2925h-588l569 2925h-447l112 575z\"/><path id=\"DejaVuSans-29\" transform=\"scale(.015625)\" d=\"m513 4856h500q468-737 701-1444 233-706 233-1403 0-700-233-1409t-701-1444h-500q415 716 620 1424t205 1429q0 722-205 1425-205 704-620 1422z\"/></defs><use transform=\"translate(0 .125)\" xlink:href=\"#DejaVuSans-50\"/><use transform=\"translate(60.303 .125)\" xlink:href=\"#DejaVuSans-20\"/><use transform=\"translate(92.09 .125)\" xlink:href=\"#DejaVuSans-28\"/><use transform=\"translate(131.1 .125)\" xlink:href=\"#DejaVuSans-Oblique-3c0\"/><use transform=\"translate(191.31 .125)\" xlink:href=\"#DejaVuSans-29\"/></g></g><g clip-path=\"url(#pa03918f209)\"><g transform=\"translate(224.25 47.87) scale(.13 -.13)\" fill=\"#ffffff\"><use xlink:href=\"#DejaVuSans-58\"/></g></g><g clip-path=\"url(#pa03918f209)\"><g transform=\"translate(224.25 94.224) scale(.13 -.13)\" fill=\"#ffffff\"><use xlink:href=\"#DejaVuSans-58\"/></g></g><g clip-path=\"url(#pa03918f209)\"><g transform=\"translate(224.25 140.58) scale(.13 -.13)\" fill=\"#ffffff\"><use xlink:href=\"#DejaVuSans-58\"/></g></g><g clip-path=\"url(#pa03918f209)\"><g transform=\"translate(270.17 47.87) scale(.13 -.13)\" fill=\"#ffffff\"><use xlink:href=\"#DejaVuSans-48\"/></g></g><g clip-path=\"url(#pa03918f209)\"><g transform=\"translate(270.17 94.224) scale(.13 -.13)\" fill=\"#ffffff\"><use xlink:href=\"#DejaVuSans-48\"/></g></g><g clip-path=\"url(#pa03918f209)\"><g transform=\"translate(270.17 140.58) scale(.13 -.13)\" fill=\"#ffffff\"><use xlink:href=\"#DejaVuSans-48\"/></g></g><defs><clipPath id=\"pa03918f209\"><rect x=\"7.2\" y=\"7.2\" width=\"298.45\" height=\"157.6\"/></clipPath></defs></svg>"
      ],
      "text/plain": [
       "<Figure size 538.33x284.278 with 1 Axes>"
      ]
     },
     "execution_count": 2,
     "metadata": {},
     "output_type": "execute_result"
    }
   ],
   "source": [
    "from qiskit import QuantumCircuit\n",
    "from numpy import pi\n",
    "\n",
    "\n",
    "def get_diffuser(num_qubits):\n",
    "    \"\"\"Creates a diffuser circuit for Grover's algorithm.\n",
    "    Args:\n",
    "        num_qubits (int): the number of qubits the diffuser should act on\n",
    "    Returns:\n",
    "        QuantumCircuit that implements the diffuser operation\n",
    "    \"\"\"\n",
    "    qc = QuantumCircuit(num_qubits, name=\"Diffuser\")\n",
    "    qc.h(range(num_qubits))\n",
    "    qc.x(range(num_qubits))\n",
    "    qc.mcp(  # multi-controlled-phase gate\n",
    "        pi,  # rotation angle (equivalent to Z-gate)\n",
    "        list(range(num_qubits - 1)),  # control qubits\n",
    "        [num_qubits - 1],  # target qubit\n",
    "    )\n",
    "    qc.x(range(num_qubits))\n",
    "    qc.h(range(num_qubits))\n",
    "    return qc\n",
    "\n",
    "\n",
    "get_diffuser(3).draw()"
   ]
  },
  {
   "cell_type": "markdown",
   "id": "531f7fec",
   "metadata": {},
   "source": [
    "#### The full algorithm\n",
    "\n",
    "The following code defines a circuit for Grover's algorithm using the oracle and diffuser defined earlier."
   ]
  },
  {
   "cell_type": "code",
   "execution_count": 3,
   "id": "e87134d7",
   "metadata": {},
   "outputs": [
    {
     "data": {
      "image/svg+xml": [
       "<?xml version=\"1.0\" encoding=\"UTF-8\"?><!DOCTYPE svg  PUBLIC '-//W3C//DTD SVG 1.1//EN'  'http://www.w3.org/Graphics/SVG/1.1/DTD/svg11.dtd'><svg width=\"312.85pt\" height=\"172pt\" version=\"1.1\" viewBox=\"0 0 312.85 172\" xmlns=\"http://www.w3.org/2000/svg\" xmlns:xlink=\"http://www.w3.org/1999/xlink\"><defs><style type=\"text/css\">*{stroke-linejoin: round; stroke-linecap: butt}</style></defs><path d=\"m0 172h312.85v-172h-312.85z\" fill=\"#ffffff\"/><path d=\"m64.609 44.283h236.41\" clip-path=\"url(#p897cc346ec)\" fill=\"none\" stroke=\"#000000\" stroke-linecap=\"square\" stroke-width=\"2\"/><path d=\"m64.609 90.637h236.41\" clip-path=\"url(#p897cc346ec)\" fill=\"none\" stroke=\"#000000\" stroke-linecap=\"square\" stroke-width=\"2\"/><path d=\"m64.609 136.99h236.41\" clip-path=\"url(#p897cc346ec)\" fill=\"none\" stroke=\"#000000\" stroke-linecap=\"square\" stroke-width=\"2\"/><path d=\"m74.575 59.348h30.13v-30.13h-30.13z\" clip-path=\"url(#p897cc346ec)\" fill=\"#1192e8\" stroke=\"#1192e8\" stroke-width=\"1.5\"/><path d=\"m74.575 105.7h30.13v-30.13h-30.13z\" clip-path=\"url(#p897cc346ec)\" fill=\"#1192e8\" stroke=\"#1192e8\" stroke-width=\"1.5\"/><path d=\"m74.575 152.06h30.13v-30.13h-30.13z\" clip-path=\"url(#p897cc346ec)\" fill=\"#1192e8\" stroke=\"#1192e8\" stroke-width=\"1.5\"/><path d=\"m131.56 152.06h55.217v-122.84h-55.217z\" clip-path=\"url(#p897cc346ec)\" fill=\"#6929c4\" stroke=\"#6929c4\" stroke-width=\"1.5\"/><path d=\"m219.64 152.06h64.488v-122.84h-64.488z\" clip-path=\"url(#p897cc346ec)\" fill=\"#6929c4\" stroke=\"#6929c4\" stroke-width=\"1.5\"/><g clip-path=\"url(#p897cc346ec)\"><g transform=\"translate(37.301 48.734) scale(.1625 -.1625)\"><defs><path id=\"DejaVuSans-Oblique-71\" transform=\"scale(.015625)\" d=\"m2669 525q-231-303-546-460-314-156-695-156-531 0-833 358-301 358-301 986 0 506 186 978t533 847q225 244 517 375t614 131q387 0 637-153t363-462l100 525h578l-934-4813h-579l360 1844zm-1778 813q0-463 193-705 194-242 560-242 544 0 928 520t384 1264q0 450-199 689-198 239-569 239-272 0-504-127-231-126-403-370-181-256-286-600-104-343-104-668z\"/><path id=\"DejaVuSans-30\" transform=\"scale(.015625)\" d=\"m2034 4250q-487 0-733-480-245-479-245-1442 0-959 245-1439 246-480 733-480 491 0 736 480 246 480 246 1439 0 963-246 1442-245 480-736 480zm0 500q785 0 1199-621 414-620 414-1801 0-1178-414-1799-414-620-1199-620-784 0-1198 620-414 621-414 1799 0 1181 414 1801 414 621 1198 621z\"/></defs><use xlink:href=\"#DejaVuSans-Oblique-71\"/><use transform=\"translate(63.477 -16.406) scale(.7)\" xlink:href=\"#DejaVuSans-30\"/></g></g><g clip-path=\"url(#p897cc346ec)\"><g transform=\"translate(37.301 95.088) scale(.1625 -.1625)\"><defs><path id=\"DejaVuSans-31\" transform=\"scale(.015625)\" d=\"m794 531h1031v3560l-1122-225v575l1116 225h631v-4135h1031v-531h-2687v531z\"/></defs><use xlink:href=\"#DejaVuSans-Oblique-71\"/><use transform=\"translate(63.477 -16.406) scale(.7)\" xlink:href=\"#DejaVuSans-31\"/></g></g><g clip-path=\"url(#p897cc346ec)\"><g transform=\"translate(37.301 141.44) scale(.1625 -.1625)\"><defs><path id=\"DejaVuSans-32\" transform=\"scale(.015625)\" d=\"m1228 531h2203v-531h-2962v531q359 372 979 998 621 627 780 809 303 340 423 576 121 236 121 464 0 372-261 606-261 235-680 235-297 0-627-103-329-103-704-313v638q381 153 712 231 332 78 607 78 725 0 1156-363 431-362 431-968 0-288-108-546-107-257-392-607-78-91-497-524-418-433-1181-1211z\"/></defs><use xlink:href=\"#DejaVuSans-Oblique-71\"/><use transform=\"translate(63.477 -16.406) scale(.7)\" xlink:href=\"#DejaVuSans-32\"/></g></g><g clip-path=\"url(#p897cc346ec)\"><g transform=\"translate(84.752 47.87) scale(.13 -.13)\" fill=\"#ffffff\"><defs><path id=\"DejaVuSans-48\" transform=\"scale(.015625)\" d=\"m628 4666h631v-1913h2294v1913h631v-4666h-631v2222h-2294v-2222h-631v4666z\"/></defs><use xlink:href=\"#DejaVuSans-48\"/></g></g><g clip-path=\"url(#p897cc346ec)\"><g transform=\"translate(84.752 94.224) scale(.13 -.13)\" fill=\"#ffffff\"><use xlink:href=\"#DejaVuSans-48\"/></g></g><g clip-path=\"url(#p897cc346ec)\"><g transform=\"translate(84.752 140.58) scale(.13 -.13)\" fill=\"#ffffff\"><use xlink:href=\"#DejaVuSans-48\"/></g></g><g clip-path=\"url(#p897cc346ec)\"><g transform=\"translate(134.81 47.87) scale(.13 -.13)\" fill=\"#ffffff\"><use xlink:href=\"#DejaVuSans-30\"/></g></g><g clip-path=\"url(#p897cc346ec)\"><g transform=\"translate(134.81 94.224) scale(.13 -.13)\" fill=\"#ffffff\"><use xlink:href=\"#DejaVuSans-31\"/></g></g><g clip-path=\"url(#p897cc346ec)\"><g transform=\"translate(134.81 140.58) scale(.13 -.13)\" fill=\"#ffffff\"><use xlink:href=\"#DejaVuSans-32\"/></g></g><g clip-path=\"url(#p897cc346ec)\"><g transform=\"translate(143.12 94.224) scale(.13 -.13)\" fill=\"#ffffff\"><defs><path id=\"DejaVuSans-4f\" transform=\"scale(.015625)\" d=\"m2522 4238q-688 0-1093-513-404-512-404-1397 0-881 404-1394 405-512 1093-512 687 0 1089 512 402 513 402 1394 0 885-402 1397-402 513-1089 513zm0 512q981 0 1568-658 588-658 588-1764 0-1103-588-1761-587-658-1568-658-984 0-1574 656-589 657-589 1763t589 1764q590 658 1574 658z\"/><path id=\"DejaVuSans-72\" transform=\"scale(.015625)\" d=\"m2631 2963q-97 56-211 82-114 27-251 27-488 0-749-317t-261-911v-1844h-578v3500h578v-544q182 319 472 473 291 155 707 155 59 0 131-8 72-7 159-23l3-590z\"/><path id=\"DejaVuSans-61\" transform=\"scale(.015625)\" d=\"m2194 1759q-697 0-966-159t-269-544q0-306 202-486 202-179 548-179 479 0 768 339t289 901v128h-572zm1147 238v-1997h-575v531q-197-318-491-470t-719-152q-537 0-855 302-317 302-317 808 0 590 395 890 396 300 1180 300h807v57q0 397-261 614t-733 217q-300 0-585-72-284-72-546-216v532q315 122 612 182 297 61 578 61 760 0 1135-394 375-393 375-1193z\"/><path id=\"DejaVuSans-63\" transform=\"scale(.015625)\" d=\"m3122 3366v-538q-244 135-489 202t-495 67q-560 0-870-355-309-354-309-995t309-996q310-354 870-354 250 0 495 67t489 202v-532q-241-112-499-168-257-57-548-57-791 0-1257 497-465 497-465 1341 0 856 470 1346 471 491 1290 491 265 0 518-55 253-54 491-163z\"/><path id=\"DejaVuSans-6c\" transform=\"scale(.015625)\" d=\"m603 4863h575v-4863h-575v4863z\"/><path id=\"DejaVuSans-65\" transform=\"scale(.015625)\" d=\"m3597 1894v-281h-2644q38-594 358-905t892-311q331 0 642 81t618 244v-544q-310-131-635-200t-659-69q-838 0-1327 487-489 488-489 1320 0 859 464 1363 464 505 1252 505 706 0 1117-455 411-454 411-1235zm-575 169q-6 471-264 752-258 282-683 282-481 0-770-272t-333-766l2050 4z\"/></defs><use xlink:href=\"#DejaVuSans-4f\"/><use x=\"78.710938\" xlink:href=\"#DejaVuSans-72\"/><use x=\"119.824219\" xlink:href=\"#DejaVuSans-61\"/><use x=\"181.103516\" xlink:href=\"#DejaVuSans-63\"/><use x=\"236.083984\" xlink:href=\"#DejaVuSans-6c\"/><use x=\"263.867188\" xlink:href=\"#DejaVuSans-65\"/></g></g><g clip-path=\"url(#p897cc346ec)\"><g transform=\"translate(222.88 47.87) scale(.13 -.13)\" fill=\"#ffffff\"><use xlink:href=\"#DejaVuSans-30\"/></g></g><g clip-path=\"url(#p897cc346ec)\"><g transform=\"translate(222.88 94.224) scale(.13 -.13)\" fill=\"#ffffff\"><use xlink:href=\"#DejaVuSans-31\"/></g></g><g clip-path=\"url(#p897cc346ec)\"><g transform=\"translate(222.88 140.58) scale(.13 -.13)\" fill=\"#ffffff\"><use xlink:href=\"#DejaVuSans-32\"/></g></g><g clip-path=\"url(#p897cc346ec)\"><g transform=\"translate(231.41 94.224) scale(.13 -.13)\" fill=\"#ffffff\"><defs><path id=\"DejaVuSans-44\" transform=\"scale(.015625)\" d=\"m1259 4147v-3628h763q966 0 1414 437 448 438 448 1382 0 937-448 1373t-1414 436h-763zm-631 519h1297q1356 0 1990-564 635-564 635-1764 0-1207-638-1773-637-565-1987-565h-1297v4666z\"/><path id=\"DejaVuSans-69\" transform=\"scale(.015625)\" d=\"m603 3500h575v-3500h-575v3500zm0 1363h575v-729h-575v729z\"/><path id=\"DejaVuSans-66\" transform=\"scale(.015625)\" d=\"m2375 4863v-479h-550q-309 0-430-125-120-125-120-450v-309h947v-447h-947v-3053h-578v3053h-550v447h550v244q0 584 272 851 272 268 862 268h544z\"/><path id=\"DejaVuSans-75\" transform=\"scale(.015625)\" d=\"m544 1381v2119h575v-2097q0-497 193-746 194-248 582-248 465 0 735 297 271 297 271 810v1984h575v-3500h-575v538q-209-319-486-474-276-155-642-155-603 0-916 375-312 375-312 1097zm1447 2203z\"/><path id=\"DejaVuSans-73\" transform=\"scale(.015625)\" d=\"m2834 3397v-544q-243 125-506 187-262 63-544 63-428 0-642-131t-214-394q0-200 153-314t616-217l197-44q612-131 870-370t258-667q0-488-386-773-386-284-1061-284-281 0-586 55t-642 164v594q319-166 628-249 309-82 613-82 406 0 624 139 219 139 219 392 0 234-158 359-157 125-692 241l-200 47q-534 112-772 345-237 233-237 639 0 494 350 762 350 269 994 269 318 0 599-47 282-46 519-140z\"/></defs><use xlink:href=\"#DejaVuSans-44\"/><use x=\"77.001953\" xlink:href=\"#DejaVuSans-69\"/><use x=\"104.785156\" xlink:href=\"#DejaVuSans-66\"/><use x=\"139.990234\" xlink:href=\"#DejaVuSans-66\"/><use x=\"175.195312\" xlink:href=\"#DejaVuSans-75\"/><use x=\"238.574219\" xlink:href=\"#DejaVuSans-73\"/><use x=\"290.673828\" xlink:href=\"#DejaVuSans-65\"/><use x=\"352.197266\" xlink:href=\"#DejaVuSans-72\"/></g></g><defs><clipPath id=\"p897cc346ec\"><rect x=\"7.2\" y=\"7.2\" width=\"298.45\" height=\"157.6\"/></clipPath></defs></svg>"
      ],
      "text/plain": [
       "<Figure size 538.33x284.278 with 1 Axes>"
      ]
     },
     "execution_count": 3,
     "metadata": {},
     "output_type": "execute_result"
    }
   ],
   "source": [
    "from qiskit import QuantumCircuit\n",
    "\n",
    "NUM_ITERATIONS = 1\n",
    "\n",
    "qc = QuantumCircuit(NUM_QUBITS)\n",
    "qc.h(range(NUM_QUBITS))\n",
    "for i in range(NUM_ITERATIONS):\n",
    "    qc.unitary(oracle, range(NUM_QUBITS), label=\"Oracle\")\n",
    "    qc.append(get_diffuser(NUM_QUBITS), range(NUM_QUBITS))\n",
    "\n",
    "qc.draw()"
   ]
  },
  {
   "cell_type": "markdown",
   "id": "b1889b13",
   "metadata": {},
   "source": [
    "The next code cell uses Qiskit's `Statevector` class to simulate the results of running this circuit 1024 times."
   ]
  },
  {
   "cell_type": "code",
   "execution_count": 4,
   "id": "6cfe813d",
   "metadata": {},
   "outputs": [
    {
     "data": {
      "text/plain": [
       "{'001': 516, '110': 508}"
      ]
     },
     "execution_count": 4,
     "metadata": {},
     "output_type": "execute_result"
    }
   ],
   "source": [
    "from qiskit.quantum_info import Statevector\n",
    "\n",
    "ket_0 = Statevector.from_label(\"0\" * NUM_QUBITS)\n",
    "ket_0.evolve(qc).sample_counts(1024)"
   ]
  },
  {
   "cell_type": "markdown",
   "id": "c982c40b",
   "metadata": {},
   "source": [
    "We see roughly a 50-50 chance of measuring `001` and `110`, which are the two \"good\" bit strings defined in the _Problem form_ section."
   ]
  },
  {
   "cell_type": "markdown",
   "id": "b1f65e6a",
   "metadata": {},
   "source": [
    "## Analysis\n",
    "\n",
    "For completely unstructured problems (in which we have no information about which states are likely to be good), the best algorithm is _random guessing_. Random guessing chooses random bit strings, and \n",
    "Grover's algorithm runs in $O(\\sqrt{N_t/N_g})$ time, where $N_t$ is the total number of states to search through, and $N_g$ is the number of good states. The best classical algorithm for completely unstructured search is random guessing, in which we randomly pick states and run the oracle to see if they are good or not. This \n",
    "\n",
    "## Performance\n",
    "\n",
    "- quick proof of runtime\n",
    "- explain can be improved with domain-specific knowledge"
   ]
  },
  {
   "cell_type": "markdown",
   "id": "27a92d4b",
   "metadata": {},
   "source": [
    "## Links\n",
    "\n",
    "Grover's algorithm was first published in the following paper.\n",
    "\n",
    "- Lov K. Grover. 1996. _\"A fast quantum mechanical algorithm for database search.\"_ <https://arxiv.org/abs/quant-ph/9605043>\n",
    "\n",
    "### Further learning\n",
    "\n",
    "Check out these links to learn about Grover's algorithm in more detail.\n",
    "\n",
    "- other explanations\n",
    "\n",
    "\n",
    "### Later developments\n",
    "\n",
    "Read later research that builds on Grover's algorithm.\n",
    "\n",
    "- amplitude amplification\n",
    "- quantum counting\n",
    "\n",
    "- N. J. Cerf, L. K. Grover, C. P. Williams. 1998. _\"Nested quantum search and NP-complete problems\"_ <https://arxiv.org/abs/quant-ph/9806078>\n",
    "\n",
    "  This paper extends the methods of Grover's algorithm to use some problem structure."
   ]
  },
  {
   "cell_type": "code",
   "execution_count": 5,
   "id": "c9cc46ca",
   "metadata": {},
   "outputs": [
    {
     "data": {
      "text/html": [
       "<h3>Version Information</h3><table><tr><th>Qiskit Software</th><th>Version</th></tr><tr><td><code>qiskit-terra</code></td><td>0.21.2</td></tr><tr><td><code>qiskit-aer</code></td><td>0.10.4</td></tr><tr><td><code>qiskit-ibmq-provider</code></td><td>0.19.2</td></tr><tr><td><code>qiskit</code></td><td>0.37.2</td></tr><tr><td><code>qiskit-nature</code></td><td>0.4.1</td></tr><tr><td><code>qiskit-finance</code></td><td>0.3.2</td></tr><tr><td><code>qiskit-optimization</code></td><td>0.4.0</td></tr><tr><td><code>qiskit-machine-learning</code></td><td>0.4.0</td></tr><tr><th>System information</th></tr><tr><td>Python version</td><td>3.8.16</td></tr><tr><td>Python compiler</td><td>Clang 14.0.0 (clang-1400.0.29.202)</td></tr><tr><td>Python build</td><td>default, Dec  7 2022 01:36:11</td></tr><tr><td>OS</td><td>Darwin</td></tr><tr><td>CPUs</td><td>8</td></tr><tr><td>Memory (Gb)</td><td>32.0</td></tr><tr><td colspan='2'>Fri Mar 31 14:37:28 2023 BST</td></tr></table>"
      ],
      "text/plain": [
       "<IPython.core.display.HTML object>"
      ]
     },
     "metadata": {},
     "output_type": "display_data"
    }
   ],
   "source": [
    "import qiskit.tools.jupyter\n",
    "%qiskit_version_table"
   ]
  }
 ],
 "metadata": {
  "kernelspec": {
   "display_name": "Python 3",
   "language": "python",
   "name": "python3"
  },
  "language_info": {
   "codemirror_mode": {
    "name": "ipython",
    "version": 3
   },
   "file_extension": ".py",
   "mimetype": "text/x-python",
   "name": "python",
   "nbconvert_exporter": "python",
   "pygments_lexer": "ipython3",
   "version": "3.9"
  }
 },
 "nbformat": 4,
 "nbformat_minor": 5
}
